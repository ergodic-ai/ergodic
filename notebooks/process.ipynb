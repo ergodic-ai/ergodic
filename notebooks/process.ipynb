{
 "cells": [
  {
   "cell_type": "code",
   "execution_count": 23,
   "metadata": {},
   "outputs": [],
   "source": [
    "import ergodic\n",
    "import os\n",
    "from dotenv import load_dotenv\n",
    "import logging\n",
    "\n",
    "logging.basicConfig(level=logging.INFO)\n",
    "\n",
    "load_dotenv()\n",
    "\n",
    "username = os.getenv(\"ERGODIC_API_USERNAME\")\n",
    "password = os.getenv(\"ERGODIC_API_PASSWORD\")\n",
    "api_url = \"http://localhost:8000\"\n",
    "# api_url = \" https://ergbackendv3.azurewebsites.net\"\n",
    "\n",
    "\n",
    "pid = \"8f824a7c-0f14-4c9f-a11c-6ff81e8f14ce\""
   ]
  },
  {
   "cell_type": "code",
   "execution_count": 24,
   "metadata": {},
   "outputs": [
    {
     "name": "stderr",
     "output_type": "stream",
     "text": [
      "INFO:root:Sending request to http://localhost:8000/token\n",
      "INFO:root:Login successful\n"
     ]
    }
   ],
   "source": [
    "from ergodic.client import ErgodicClient\n",
    "\n",
    "client = ErgodicClient(api_url, username, password)"
   ]
  },
  {
   "cell_type": "code",
   "execution_count": 25,
   "metadata": {},
   "outputs": [],
   "source": [
    "from ergodic.assets.asset_client import AssetClient"
   ]
  },
  {
   "cell_type": "code",
   "execution_count": 26,
   "metadata": {},
   "outputs": [],
   "source": [
    "asset_client = AssetClient(api_url, client.token)"
   ]
  },
  {
   "cell_type": "code",
   "execution_count": 27,
   "metadata": {},
   "outputs": [
    {
     "name": "stderr",
     "output_type": "stream",
     "text": [
      "INFO:ergodic.assets.utils:Getting data from asset 8f824a7c-0f14-4c9f-a11c-6ff81e8f14ce\n"
     ]
    }
   ],
   "source": [
    "df = asset_client.get_data(pid)"
   ]
  },
  {
   "cell_type": "code",
   "execution_count": 28,
   "metadata": {},
   "outputs": [
    {
     "data": {
      "text/plain": [
       "{'test4': {}}"
      ]
     },
     "execution_count": 28,
     "metadata": {},
     "output_type": "execute_result"
    }
   ],
   "source": [
    "df"
   ]
  }
 ],
 "metadata": {
  "kernelspec": {
   "display_name": ".venv",
   "language": "python",
   "name": "python3"
  },
  "language_info": {
   "codemirror_mode": {
    "name": "ipython",
    "version": 3
   },
   "file_extension": ".py",
   "mimetype": "text/x-python",
   "name": "python",
   "nbconvert_exporter": "python",
   "pygments_lexer": "ipython3",
   "version": "3.11.6"
  }
 },
 "nbformat": 4,
 "nbformat_minor": 2
}
