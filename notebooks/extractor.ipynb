{
 "cells": [
  {
   "cell_type": "code",
   "execution_count": 97,
   "metadata": {},
   "outputs": [],
   "source": [
    "import ergodic\n",
    "import os\n",
    "from dotenv import load_dotenv\n",
    "import logging\n",
    "\n",
    "logging.basicConfig(level=logging.INFO)\n",
    "\n",
    "load_dotenv()\n",
    "\n",
    "username = os.getenv(\"ERGODIC_API_USERNAME\")\n",
    "password = os.getenv(\"ERGODIC_API_PASSWORD\")\n",
    "api_url = \"https://ergbackendv3.azurewebsites.net\""
   ]
  },
  {
   "cell_type": "code",
   "execution_count": null,
   "metadata": {},
   "outputs": [],
   "source": [
    "from ergodic.client import ErgodicClient\n",
    "\n",
    "client = ErgodicClient(api_url, username, password)"
   ]
  },
  {
   "cell_type": "code",
   "execution_count": null,
   "metadata": {},
   "outputs": [],
   "source": [
    "extraction = client.extraction.extract_features(\n",
    "    data=[\n",
    "        {\"text\": \"Hello, Andre!\", \"title\": \"1\"},\n",
    "        {\"text\": \"Hello, Zubair!\", \"title\": \"2\"},\n",
    "    ],\n",
    "    description=\"Extract the greeting and the recipient name from the text\",\n",
    ")"
   ]
  },
  {
   "cell_type": "code",
   "execution_count": null,
   "metadata": {},
   "outputs": [],
   "source": [
    "extraction"
   ]
  },
  {
   "cell_type": "code",
   "execution_count": null,
   "metadata": {},
   "outputs": [],
   "source": [
    "extraction.get_data_model()"
   ]
  },
  {
   "cell_type": "code",
   "execution_count": 107,
   "metadata": {},
   "outputs": [],
   "source": [
    "from pydantic import BaseModel, Field\n",
    "\n",
    "\n",
    "class Greeting(BaseModel):\n",
    "    \"\"\"Extract the greeting and the recipient name from the text\"\"\"\n",
    "\n",
    "    greeting: str = Field(description=\"The greeting\")\n",
    "    recipient: str = Field(description=\"The recipient name\")"
   ]
  },
  {
   "cell_type": "code",
   "execution_count": null,
   "metadata": {},
   "outputs": [],
   "source": [
    "extraction = client.extraction.extract_features(\n",
    "    data=[\n",
    "        {\"text\": \"Hello, Andre!\", \"title\": \"1\"},\n",
    "        {\"text\": \"Hello, Zubair!\", \"title\": \"2\"},\n",
    "    ],\n",
    "    data_model=Greeting,\n",
    ")"
   ]
  },
  {
   "cell_type": "code",
   "execution_count": null,
   "metadata": {},
   "outputs": [],
   "source": [
    "extraction"
   ]
  },
  {
   "cell_type": "code",
   "execution_count": 110,
   "metadata": {},
   "outputs": [],
   "source": [
    "result = extraction.wait()"
   ]
  },
  {
   "cell_type": "code",
   "execution_count": null,
   "metadata": {},
   "outputs": [],
   "source": [
    "result"
   ]
  },
  {
   "cell_type": "code",
   "execution_count": 86,
   "metadata": {},
   "outputs": [],
   "source": [
    "import pandas\n",
    "\n",
    "df = pandas.read_pickle(\"../data/product_sheets_mapping_curated.pkl\")\n",
    "json_data = df[[\"PLID_KERNEL\", \"text\"]].copy()\n",
    "json_data.rename(columns={\"PLID_KERNEL\": \"title\"}, inplace=True)\n",
    "json_data = json_data.to_dict(orient=\"records\")"
   ]
  },
  {
   "cell_type": "code",
   "execution_count": null,
   "metadata": {},
   "outputs": [],
   "source": [
    "from pydantic import BaseModel, Field\n",
    "\n",
    "\n",
    "class ProductFeatures(BaseModel):\n",
    "    \"\"\"Extract features related to the product\"\"\"\n",
    "\n",
    "    product_name: str = Field(description=\"The name of the product\")\n",
    "    max_bandwidth: float = Field(\n",
    "        description=\"The maximum bandwidth of the product, in Mbps\"\n",
    "    )\n",
    "    wifi_generation: str = Field(\n",
    "        description=\"The wifi generation of the product, can be one of: WiFi 4, WiFi 5, WiFi 6, WiFi 6E or WiFi 7\"\n",
    "    )\n",
    "    wifi_standard: str = Field(description=\"The wifi standard of the product\")\n",
    "\n",
    "\n",
    "# create an endpoint that receives an open ended description and a text and returns a schema\n",
    "extraction = client.extraction.extract_features(\n",
    "    data=json_data[:10],\n",
    "    description=\"Extract the name, max bandwidth, wifi generation and wifi standard from the text\",\n",
    ")\n",
    "\n",
    "# add unsupervised extraction as well\n",
    "# do entity recognition first - two step process\n",
    "# then do the extraction"
   ]
  },
  {
   "cell_type": "code",
   "execution_count": 122,
   "metadata": {},
   "outputs": [],
   "source": [
    "data = extraction.wait()"
   ]
  },
  {
   "cell_type": "code",
   "execution_count": null,
   "metadata": {},
   "outputs": [],
   "source": [
    "def process_plid_name(plid_name):\n",
    "    plid_name = plid_name.replace(\"AIR\", \"\")\n",
    "    names = plid_name.split(\"-\")\n",
    "    names = [x for x in names if x != \"\"]\n",
    "    if len(names[0]) > 3:\n",
    "        return names[0]\n",
    "    else:\n",
    "        return names[0] + \"-\" + names[1]"
   ]
  },
  {
   "cell_type": "code",
   "execution_count": 91,
   "metadata": {},
   "outputs": [],
   "source": [
    "sales_df = pandas.read_parquet(\n",
    "    \"../data/wireless_meraki.parquet\",\n",
    ")\n",
    "sales_df[\"PLID_KERNEL\"] = sales_df[\"PLID\"].apply(process_plid_name)"
   ]
  },
  {
   "cell_type": "code",
   "execution_count": 93,
   "metadata": {},
   "outputs": [],
   "source": [
    "sales = \"MFG_BOOKINGS_DOLLAR_total_demand_sum\"\n",
    "total_sales = sales_df.groupby(\"PLID_KERNEL\")[sales].sum()"
   ]
  },
  {
   "cell_type": "code",
   "execution_count": null,
   "metadata": {},
   "outputs": [],
   "source": [
    "total_sales.sort_values(ascending=False)"
   ]
  },
  {
   "cell_type": "code",
   "execution_count": null,
   "metadata": {},
   "outputs": [],
   "source": []
  }
 ],
 "metadata": {
  "kernelspec": {
   "display_name": ".venv",
   "language": "python",
   "name": "python3"
  },
  "language_info": {
   "codemirror_mode": {
    "name": "ipython",
    "version": 3
   },
   "file_extension": ".py",
   "mimetype": "text/x-python",
   "name": "python",
   "nbconvert_exporter": "python",
   "pygments_lexer": "ipython3",
   "version": "3.11.6"
  }
 },
 "nbformat": 4,
 "nbformat_minor": 2
}
